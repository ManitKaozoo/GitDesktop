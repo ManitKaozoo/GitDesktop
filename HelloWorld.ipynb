{
  "nbformat": 4,
  "nbformat_minor": 0,
  "metadata": {
    "colab": {
      "provenance": [],
      "authorship_tag": "ABX9TyPQHEXI78qBts9k13EJC/+g",
      "include_colab_link": true
    },
    "kernelspec": {
      "name": "python3",
      "display_name": "Python 3"
    },
    "language_info": {
      "name": "python"
    }
  },
  "cells": [
    {
      "cell_type": "markdown",
      "metadata": {
        "id": "view-in-github",
        "colab_type": "text"
      },
      "source": [
        "<a href=\"https://colab.research.google.com/github/ManitKaozoo/GitDesktop/blob/main/HelloWorld.ipynb\" target=\"_parent\"><img src=\"https://colab.research.google.com/assets/colab-badge.svg\" alt=\"Open In Colab\"/></a>"
      ]
    },
    {
      "cell_type": "code",
      "execution_count": 1,
      "metadata": {
        "colab": {
          "base_uri": "https://localhost:8080/"
        },
        "id": "QUjPvalX55DJ",
        "outputId": "ca8dd603-bbb8-4a65-9d53-931c9b270090"
      },
      "outputs": [
        {
          "output_type": "stream",
          "name": "stdout",
          "text": [
            "Mounted at /content/drive\n"
          ]
        }
      ],
      "source": [
        "# เป็นคำสั่ง Mount Drive เมื่อ Run ให้กดที่ลิงก์ที่แสดง > เลือก Google Account > Allow > Copy Authorization Code ใส่ในช่องว่าง > กดปุ่ม Enter\n",
        "from google.colab import drive\n",
        "drive.mount('/content/drive')\n",
        "\n",
        "import os"
      ]
    },
    {
      "cell_type": "code",
      "source": [
        "# เป็นคำสั่งแสดง Directory ปัจจุบันที่เรากำลังทำงานอยู่\n",
        "print(os.getcwd())"
      ],
      "metadata": {
        "colab": {
          "base_uri": "https://localhost:8080/"
        },
        "id": "is3AF2dx6bBP",
        "outputId": "ad0d336e-ac88-48cd-aa68-405487e58799"
      },
      "execution_count": 2,
      "outputs": [
        {
          "output_type": "stream",
          "name": "stdout",
          "text": [
            "/content\n"
          ]
        }
      ]
    },
    {
      "cell_type": "code",
      "source": [
        "# เป็นคำสั่งแสดง File/Folder ใน Directory ปัจจุบันที่เรากำลังทำงานอยู่\n",
        "print(os.listdir())"
      ],
      "metadata": {
        "colab": {
          "base_uri": "https://localhost:8080/"
        },
        "id": "sB_66xEZ6jr3",
        "outputId": "1220318b-8289-4f1d-85aa-3564b5462654"
      },
      "execution_count": 3,
      "outputs": [
        {
          "output_type": "stream",
          "name": "stdout",
          "text": [
            "['.config', 'drive', 'sample_data']\n"
          ]
        }
      ]
    },
    {
      "cell_type": "code",
      "source": [
        "# เป็นคำสั่งแสดง File/Folder ใน Directory ที่เราต้องการ\n",
        "data_path = 'drive/My Drive/MyWorks/'\n",
        "print(os.listdir(data_path))"
      ],
      "metadata": {
        "colab": {
          "base_uri": "https://localhost:8080/"
        },
        "id": "5cTo9HPs602u",
        "outputId": "af64d627-53ea-455b-8950-b78db7a6ec5e"
      },
      "execution_count": 4,
      "outputs": [
        {
          "output_type": "stream",
          "name": "stdout",
          "text": [
            "['HelloWorld.ipynb']\n"
          ]
        }
      ]
    },
    {
      "cell_type": "code",
      "source": [
        "# เป็นคำสั่งที่ใช้ในการทำงานกับ File ใน Directory ที่เราต้องการ\n",
        "filelist = os.listdir(data_path)\n",
        "\n",
        "for filename in filelist:\n",
        "  print(filename)"
      ],
      "metadata": {
        "colab": {
          "base_uri": "https://localhost:8080/"
        },
        "id": "RE1MdAdu7AHY",
        "outputId": "01d74594-d17d-43a9-e14d-4abea80b62e7"
      },
      "execution_count": 5,
      "outputs": [
        {
          "output_type": "stream",
          "name": "stdout",
          "text": [
            "HelloWorld.ipynb\n"
          ]
        }
      ]
    },
    {
      "cell_type": "markdown",
      "source": [
        "# Chapter 1"
      ],
      "metadata": {
        "id": "NilRis9G61xW"
      }
    },
    {
      "cell_type": "code",
      "source": [],
      "metadata": {
        "id": "4qAfG3UD8X1G"
      },
      "execution_count": null,
      "outputs": []
    },
    {
      "cell_type": "markdown",
      "source": [
        "# HelloWorld"
      ],
      "metadata": {
        "id": "lhVxIp8M6R3H"
      }
    }
  ]
}